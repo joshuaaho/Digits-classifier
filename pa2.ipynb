{
 "cells": [
  {
   "cell_type": "code",
   "execution_count": 54,
   "metadata": {
    "id": "VeSf_BkrZAzJ"
   },
   "outputs": [],
   "source": [
    "# Basic setup\n",
    "import numpy as np\n",
    "import math\n",
    "import os\n",
    "np.random.seed(33140)\n",
    "# we no longer need GPU access this time.\n",
    "\n",
    "# import plot-related libraries\n",
    "import matplotlib.pyplot as plt"
   ]
  },
  {
   "cell_type": "markdown",
   "metadata": {
    "id": "Op7yAGGl03PN"
   },
   "source": [
    "# Task: clustering MNIST handwritten digits with K-means\n",
    "This programming assignment requires you to define a K-means model, fit it to handwritten digit images and evaluate the performance. The dataset we employ here is the [MNIST](http://yann.lecun.com/exdb/mnist/) dataset, which consists of handwritten digits of resolution 28 * 28 and their corresponding labels.\n",
    "\n",
    "The code block below loads the dataset and visualizes some statistics. Note that in this task we only deal with the test subset of MNIST images due to its smaller size (only 10000 images in total)."
   ]
  },
  {
   "cell_type": "code",
   "execution_count": 55,
   "metadata": {
    "id": "ISfuUWdLg_A1"
   },
   "outputs": [
    {
     "name": "stderr",
     "output_type": "stream",
     "text": [
      "'wget' is not recognized as an internal or external command,\n",
      "operable program or batch file.\n",
      "'wget' is not recognized as an internal or external command,\n",
      "operable program or batch file.\n"
     ]
    }
   ],
   "source": [
    "# download MNIST test data\n",
    "!wget http://yann.lecun.com/exdb/mnist/t10k-labels-idx1-ubyte.gz\n",
    "!wget http://yann.lecun.com/exdb/mnist/t10k-images-idx3-ubyte.gz"
   ]
  },
  {
   "cell_type": "code",
   "execution_count": 56,
   "metadata": {
    "id": "xTt5OcarESQI"
   },
   "outputs": [],
   "source": [
    "def load_mnist_data():\n",
    "    # adapted from https://stackoverflow.com/a/53181925\n",
    "    images_file = 't10k-images-idx3-ubyte.gz'\n",
    "    labels_file = 't10k-labels-idx1-ubyte.gz'\n",
    "    import gzip\n",
    "    with gzip.open(images_file, 'rb') as f:\n",
    "        images = np.frombuffer(f.read(), np.uint8, offset=16)\n",
    "    with gzip.open(labels_file, 'rb') as f:\n",
    "        labels = np.frombuffer(f.read(), np.uint8, offset=8)\n",
    "\n",
    "    \n",
    "    # reshape 28x28 images to 10000 flatten vectors, so that the resulting data \n",
    "    # has shape [10000, 784], where each row represents a data point. We \n",
    "    # convert values to float numbers for ease of computations.\n",
    "    images = images.reshape(-1, 28 * 28).astype(np.float32)\n",
    "\n",
    "\n",
    "    return images, labels"
   ]
  },
  {
   "cell_type": "code",
   "execution_count": 57,
   "metadata": {
    "id": "HaH1pG-Ihz5O"
   },
   "outputs": [
    {
     "name": "stdout",
     "output_type": "stream",
     "text": [
      "Images have shape : (10000, 784), Labels have shape : (10000,)\n",
      "Maximum pixel values : 255.0, minimum pixel values : 0.0\n"
     ]
    },
    {
     "data": {
      "image/png": "[encoded data removed]",
      "text/plain": [
       "<Figure size 432x288 with 1 Axes>"
      ]
     },
     "metadata": {
      "needs_background": "light"
     },
     "output_type": "display_data"
    }
   ],
   "source": [
    "# load mnist data.\n",
    "images, labels = load_mnist_data()\n",
    "\n",
    "# print some stats\n",
    "print(\"Images have shape : {}, Labels have shape : {}\".format(images.shape, labels.shape))\n",
    "print(\"Maximum pixel values : {}, minimum pixel values : {}\".format(np.amax(images), np.amin(images)))\n",
    "\n",
    "# plot some digits\n",
    "_image = images[0]\n",
    "_label = labels[0]\n",
    "plt.imshow(_image.reshape(28, 28), cmap='gray')\n",
    "plt.title(\"Label : {}\".format(_label))\n",
    "plt.show()"
   ]
  },
  {
   "cell_type": "markdown",
   "metadata": {
    "id": "yxhtRoY4XYCc"
   },
   "source": [
    "## Task 1: One-hot encodings (10 points). \n",
    "In this task, we convert integer-valued labels to its **one-hot encodings**. Suppose the total number of classes is $C$. The one-hot representation of some label with value $c$ is a $C$-dimensional vector, whose entries are all 0 except for the $c$-th element. \n",
    "\n",
    "It is called one-hot since intuitively it turns “on” the $c$-th element of the vector, and leaves the other elements “off” (Page 174, [Textbook](https://probml.github.io/pml-book/book1.html)).\n",
    "\n",
    "    Example: If the total number of classes is 10 (ranging from 0 to 9), then each one-hot vector is 10-dimensional.\n",
    "    class 0  -> [1, 0, 0, 0, 0, 0, 0, 0, 0, 0]\n",
    "    class 1  -> [0, 1, 0, 0, 0, 0, 0, 0, 0, 0]\n",
    "    class 9  -> [0, 0, 0, 0, 0, 0, 0, 0, 0, 1]\n",
    "\n",
    "**Question**: \n",
    "1. Implement two functions `label_to_onehot()` and `onehot_to_label()`, where the first function transforms an array of labels to a matrix of one-hot encodings, and the second function does the reverse.\n"
   ]
  },
  {
   "cell_type": "code",
   "execution_count": 58,
   "metadata": {
    "id": "fXRFHa_NoUIv"
   },
   "outputs": [],
   "source": [
    "def label_to_onehot(labels):\n",
    "    \"\"\"\n",
    "    Convert integer-valued labels to one-hot encodings.\n",
    "    You can assume the total number of classes C = 10.\n",
    "\n",
    "    labels: labels.shape == [N], where N is the number of data points.\n",
    "\n",
    "    return\n",
    "    onehot_vectors: \n",
    "        with shape [N, C], with each row represents \n",
    "        a one-hot vector of the corresponding label.\n",
    "    \"\"\"\n",
    "    #### Your code starts here #####\n",
    "  \n",
    "    onehot = np.zeros((labels.size,10))\n",
    "    onehot[np.arange(labels.size),labels.astype(int)] = 1\n",
    "    return onehot\n",
    "\n",
    "    #### Your code ends here #####\n",
    "\n",
    "\n",
    "def onehot_to_label(onehot_vectors):\n",
    "    \"\"\"\n",
    "    Convert one-hot encodings to integer-valued labels.\n",
    "\n",
    "    onehot_vectors: \n",
    "        with shape [N, C], with each row represents \n",
    "        a one-hot vector of the corresponding label.\n",
    "\n",
    "    return\n",
    "    labels: labels.shape == [N], where N is the number of data points.\n",
    "    \"\"\"\n",
    "    #### Your code starts here #####\n",
    "    \n",
    "    def onehot_to_label2(onehot):\n",
    "        return onehot.argmax(axis=0).item()\n",
    "    \n",
    "    return np.apply_along_axis(onehot_to_label2,1,onehot_vectors)\n",
    "        \n",
    "    #### Your code ends here #####"
   ]
  },
  {
   "cell_type": "code",
   "execution_count": 59,
   "metadata": {
    "id": "05vUgSWBoq_h",
    "scrolled": false
   },
   "outputs": [],
   "source": [
    "# you can check the correctness by simply invoking\n",
    "# np.allclose() functions compares two nd arrays in an element-wise way.\n",
    "\n",
    "assert np.allclose(labels, onehot_to_label(label_to_onehot(labels)))\n"
   ]
  },
  {
   "cell_type": "code",
   "execution_count": 60,
   "metadata": {
    "id": "-NTyRorZse5m"
   },
   "outputs": [],
   "source": [
    "# we need to transform the whole label set to its one-hot \n",
    "# encodings for ease of subsequent computations.\n",
    "\n",
    "labels = label_to_onehot(labels)"
   ]
  },
  {
   "cell_type": "markdown",
   "metadata": {
    "id": "yeLLXGTetjbB"
   },
   "source": [
    "## Task 2: K-means (60 points)\n",
    "\n",
    "In this task, you will implement a workable K-means clustering model to cluster MNIST handwritten digit images. K-means is a popular method to cluster (or partition) a set of $N$ data points into $K$ clusters, so that each data point belongs to the cluster with the nearest cluster center (or called **centroids**).\n",
    "\n",
    "Technically, let us denote the $K$ clusters as $\\boldsymbol{\\mu}_1,\\dots,\\boldsymbol{\\mu}_K \\in \\mathbb{R}^D$, the set of $N$ datapoints as $\\boldsymbol{x}_1, \\boldsymbol{x}_2, \\dots, \\boldsymbol{x}_N \\in \\mathbb{R}^D$. To cluster the data such that each data point is assigned to its closest centroid, the algorithm proceeds as follows:\n",
    "1. Randomly initialize the cluster centroids $\\boldsymbol{\\mu}_k$ for each $k=1,2,\\dots,K$;\n",
    "2. For each data point $\\boldsymbol{x}_n$ with $n = 1,2,\\dots,N$, compute the index $z_n$ of its closest centroid,\n",
    "$$z_{n}=\\arg \\min _{k}\\left\\|\\boldsymbol{x}_{n}-\\boldsymbol{\\mu}_{k}\\right\\|_{2}^{2};$$\n",
    "3. Given the information contained in data points, we compute the new cluster centroids as\n",
    "$$\\boldsymbol{\\mu}_{k}^{\\text{new}} = \\frac{1}{N_{k}} \\sum_{n: z_{n}=k} \\boldsymbol{x}_{n},$$\n",
    "where $N_k$ is the number of data points that are assigned to the $k$-th cluster.\n",
    "4. Compare the old and new cluster centroids and if their difference is small enough (say less than 1e-8), then the algorithm has converged and terminates; otherwise, return to step **2** and iterate over the entire data set. In both cases, update the centroids as\n",
    "$$\\boldsymbol{\\mu}_{k}\\gets\\boldsymbol{\\mu}_{k}^{\\text{new}}, \\quad k = 1,2,\\dots,K.$$\n",
    "\n",
    "\n",
    "**Note**: Sometimes, some cluster $k$ might receive no assigned data points. In this case, we just copy the old centroid value, $\\boldsymbol{\\mu}_{k}^{\\text{new}}\\gets \\boldsymbol{\\mu}_{k}$."
   ]
  },
  {
   "cell_type": "markdown",
   "metadata": {
    "id": "JfHcX19syZih"
   },
   "source": [
    "### Task 2.1 Initialization (20 points)\n",
    "K-means is known to be very sensitive to initializations of cluster centroids; here we discuss three different strategies to perform initializations.\n",
    "- `random`: initialize cluster centroids as random values at $[0,255]$, which is the minimum and maximum value of our image data respectively;\n",
    "- `kmeans`: pick $K$ data points from the data set at random, and use these as the initial values for $\\{\\boldsymbol{\\mu}_{k}\\}_{k=1}^K$.\n",
    "- `kmeans++` approach: the main idea of `K-means++` is to select cluster centroids **sequentially** to try to cover the data as much as possible. It proceeds as follows (See our lecture [slide](https://nlp.cs.hku.hk/comp3314/14.pdf) or Textbook (Section 21.3.4) for more details):\n",
    "    - first pick one random data point uniformly to initialize the first centroid;\n",
    "    - for the remaining centroids, we want them to be as far away as possible from previous centroids. To this end, we also pick data points randomly, but from a weighted probability distribution. \n",
    "Assuming $k-1$ centroids have been initialized, for the $k$-th centroid we have \n",
    "$$\n",
    "p\\left(\\boldsymbol{\\mu}_{k}=\\boldsymbol{x}_{n}\\right)=\\frac{D_{k-1}\\left(\\boldsymbol{x}_{n}\\right)}{\\sum_{n^{\\prime}=1}^{N} D_{k-1}\\left(\\boldsymbol{x}_{n^{\\prime}}\\right)}\n",
    "$$\n",
    "where\n",
    "$$D_{k-1}(\\boldsymbol{x})=\\min _{t=1}^{k-1}\\left\\|\\boldsymbol{x}-\\boldsymbol{\\mu}_{t}\\right\\|_{2}^{2}.$$\n",
    "Intuitively, the probability for the $n$-th data point $\\boldsymbol{x}_{n}$ to be chosen as the $k$-th centroid is proportional to its squared distance to the point’s current closest cluster centroid. If $\\boldsymbol{x}_{n}$ is far away from all previous centroids, then it would have high probability to be selected; and vice versa. We repeat this process for $k = 2,3,\\dots,K$ to construct all centroids.\n",
    "\n",
    "**Questions**:\n",
    "1. Implement these 3 strategies in the `init_centroids()` member function, where\n",
    "    - 5 points for `random`, \n",
    "    - 5 points for `kmeans`, and \n",
    "    - 10 points for `kmeans++`. \n",
    "\n",
    "**Hint**: check the [numpy.random.choice](https://numpy.org/doc/stable/reference/random/generated/numpy.random.choice.html#numpy-random-choice) function."
   ]
  },
  {
   "cell_type": "markdown",
   "metadata": {
    "id": "l40q6-E1EhgK"
   },
   "source": [
    "### Task 2.2 Implement K-means iteration step (20 points)\n",
    "\n",
    "Suppose the centroids have been initialized. Given a set of data $\\boldsymbol{x}_1, \\boldsymbol{x}_2, \\dots, \\boldsymbol{x}_N \\in \\mathbb{R}^D$,\n",
    "\n",
    "**Questions**:\n",
    "1. (20 points) Implement the K-means algorithm (only **step 2 and 3**; step 4 and 5 have been implemented for you) in the `fit()` member function below."
   ]
  },
  {
   "cell_type": "markdown",
   "metadata": {
    "id": "OhETaOcaFjyp"
   },
   "source": [
    "### Task 2.3 Evaluation metrics (20 points)\n",
    "\n",
    "There are various ways to evaluate whether a clustering algorithm is good or not. In this assignment, we consider two metrics:\n",
    "- **Purity** measures the extent to which clusters contain a *single* class. Technically, it is defined as (See our lecture [slide](https://nlp.cs.hku.hk/comp3314/14.pdf) or Textbook (Section 21.1.1) for more details)\n",
    "$$\\text{purity} = \\sum_{k=1}^K \\frac{N_k}{N}p_k,\\quad\\quad p_k = \\max_c \\frac{N_{ck}}{N_k},$$\n",
    "where \n",
    "    - $N$ is the total number of data points, \n",
    "    - $N_k$ is the total number of data points in cluster $k$, and\n",
    "    - $N_{ck}$ is the number of data points in cluster $k$ that belong to class $c$.\n",
    "\n",
    "- **Distortion** measures how individual data points deviate from their assigned cluster centroids. It is just the mean of the squared distance between each data point and its assigned centroid,\n",
    "$$J=\\frac{1}{N}\\sum_{n=1}^{N}\\left\\|\\boldsymbol{x}_{n}-\\boldsymbol{\\mu}_{z_{n}}\\right\\|^{2}.$$\n",
    "\n",
    "**Questions**:\n",
    "1. (10 points) Compute the purity for the new cluster centroids at each step in the `fit()` member function below.\n",
    "2. (10 points) Compute the distortion at each step in the `fit()` member function below.\n",
    "\n",
    "**Note**: you are free to modify other parts of the class object as long as the member function signature remains the same."
   ]
  },
  {
   "cell_type": "code",
   "execution_count": 61,
   "metadata": {
    "id": "_kfCW1PWD2GI"
   },
   "outputs": [],
   "source": [
    "class Kmeans(object):\n",
    "    def __init__(self, num_clusters, cluster_dim, max_iterations=1000, threshold=1e-1):\n",
    "        super().__init__()\n",
    "        self.num_clusters = num_clusters\n",
    "        self.cluster_dim = cluster_dim\n",
    "        self.max_iterations = max_iterations\n",
    "        self.threshold = threshold # threshold to check convergence\n",
    "        self.centroids = None\n",
    "    \n",
    "\n",
    "    def init_centroids(self, input_x, method):\n",
    "        \"\"\" Task 2.1\n",
    "        Initialize k-means centroids.\n",
    "\n",
    "        input_x: shape == [N, d], where \n",
    "            N is the number of data points and \n",
    "            d is the dimensionality of each data point.\n",
    "\n",
    "        method: str. Possible values: ['random', 'kmeans', 'kmeans++']\n",
    "\n",
    "        the initialized centroids must be stored as self.centroids.\n",
    "        Let K be the number of clusters. self.centroids must be either \n",
    "            (1) a 2D ndarray with shape [K, d], or\n",
    "            (2) a list of K numpy vectors with shape [d].\n",
    "        \"\"\"\n",
    "        if method == 'random':\n",
    "            ########## Task 2.1 ############\n",
    "            #### Your code starts here #####\n",
    "            \n",
    "          \n",
    "            self.centroids = np.random.choice(np.arange(256),(self.num_clusters,self.cluster_dim))\n",
    "\n",
    "            #### Your code ends here #####\n",
    "        elif method == 'kmeans':\n",
    "            ########## Task 2.1 ############\n",
    "            #### Your code starts here #####\n",
    "            \n",
    "            centroids = np.zeros((self.num_clusters,self.cluster_dim))\n",
    "            centroids_index = np.arange(self.num_clusters)\n",
    "            \n",
    "            def get_cluster(x_index,index):\n",
    "                centroids[index] = input_x[x_index]\n",
    "\n",
    "            picked_x_cluster = np.random.choice(np.arange(input_x.shape[0]),self.num_clusters,False)\n",
    "            get_cluster = np.vectorize(get_cluster)\n",
    "            np.apply_along_axis(get_cluster,0,picked_x_cluster,centroids_index)\n",
    "            self.centroids = centroids\n",
    "            \n",
    "            \n",
    "\n",
    "            #### Your code ends here #####\n",
    "        elif method == 'kmeans++':\n",
    "            ########## Task 2.1 ############\n",
    "            #### Your code starts here #####\n",
    "            \n",
    "            denom = None\n",
    "            prob_array = np.empty(0)\n",
    "            centroids = np.empty((0,self.cluster_dim))\n",
    "            centroids = np.vstack((centroids,input_x[np.random.choice(np.arange(256),1).item()]))\n",
    "            \n",
    "            \n",
    "            f = lambda x: (((centroids - x)**2)).sum(axis=1)\n",
    "            \n",
    "            for _ in range(self.num_clusters-1):\n",
    "                denom = (np.apply_along_axis(f, 1, input_x).min(1)).sum()\n",
    "                min_array = (np.apply_along_axis(f, 1, input_x).min(1))\n",
    "                prob_array = min_array/denom\n",
    "                new_cluster_index = prob_array.argmax(axis = 0).item()\n",
    "                centroids = np.vstack((centroids,input_x[new_cluster_index]))\n",
    "            \n",
    "            self.centroids = centroids\n",
    "                \n",
    "            #### Your code ends here #####\n",
    "        else:\n",
    "            raise NotImplementedError(\"method {} is not supported!\".format(method))\n",
    "        \n",
    "        assert self.centroids is not None\n",
    "        \n",
    "\n",
    "    def fit(self, input_x, input_y):\n",
    "        \"\"\" Task 2.2 & 2.3\n",
    "        Do the K-means clustering step until convergence.\n",
    "\n",
    "        input_x: shape == [N, d], where \n",
    "            N is the number of data points and \n",
    "            d is the dimensionality of each data point.\n",
    "\n",
    "        input_y: shape == [N, C], where\n",
    "            K is the number of clusters and \n",
    "            C is the number of classes.\n",
    "        \n",
    "        *Note that input_y are label one-hot encodings.\n",
    "        *During clustering, we do not use the label information; input_y is passed\n",
    "        for you to compute the purity of the formed clusters.\n",
    "\n",
    "        \"\"\"\n",
    "        cur_iter = 0\n",
    "        N = input_y.shape[0]\n",
    "        C = input_y.shape[1]\n",
    "        while cur_iter < self.max_iterations:\n",
    "            ########## Task 2.2 ############\n",
    "            #### Your code starts here #####\n",
    "\n",
    "            # step 2.\n",
    "            \n",
    "           \n",
    "            num_data_in_cluster = np.zeros(self.num_clusters)\n",
    "            total_in_cluster = np.zeros((self.num_clusters,self.cluster_dim))\n",
    "            \n",
    "            def check_closest_cluster(x):\n",
    "                return (((self.centroids - x)**2)).sum(axis=1).argmin()\n",
    "            \n",
    "            def calc_cluster_info(cluster_index,index):\n",
    "                num_data_in_cluster[cluster_index] += 1\n",
    "                total_in_cluster[cluster_index] = total_in_cluster[cluster_index] + input_x[index]\n",
    "            \n",
    "            calc_cluster_info = np.vectorize(calc_cluster_info)\n",
    "            x_index = np.arange(input_x.shape[0]) \n",
    "            index_of_closest_from_data = np.apply_along_axis(check_closest_cluster, 1, input_x)\n",
    "            np.apply_along_axis(calc_cluster_info,0,index_of_closest_from_data,x_index)\n",
    "      \n",
    "            # step 3.\n",
    "            # the new computed centroid should be named as new_centroids\n",
    "            \n",
    "            new_centroids = np.divide(total_in_cluster, num_data_in_cluster[:,np.newaxis], out=np.zeros_like(total_in_cluster), where=num_data_in_cluster[:,np.newaxis]!=0)\n",
    "\n",
    "            #### Your code ends here #####\n",
    "\n",
    "\n",
    "            ########## Task 2.3 ############\n",
    "            #### Your code starts here #####\n",
    "            \n",
    "            def calc_purity(cluster_index):\n",
    "                return input_y[np.where(index_of_closest_from_data==cluster_index)[0]].sum(axis=0).max()/input_x.shape[0]\n",
    "            def calc_distortion(cluster_index,input_x_index):\n",
    "                return ((self.centroids[cluster_index]-input_x[input_x_index])**2).sum()\n",
    "                \n",
    "            calc_purity = np.vectorize(calc_purity)\n",
    "            calc_distortion = np.vectorize(calc_distortion)\n",
    "            input_x_index = np.arange(input_x.shape[0])\n",
    "            \n",
    "            # calculate distortion and purity\n",
    "            \n",
    "            purity = np.apply_along_axis(calc_purity, 0, np.arange(self.num_clusters)).sum()\n",
    "            distortion = np.apply_along_axis(calc_distortion, 0, index_of_closest_from_data,input_x_index).sum()/input_x.shape[0]\n",
    "            \n",
    "\n",
    "            #### Your code ends here #####\n",
    "\n",
    "            # 4. check convergence\n",
    "            print(\"* Iteration : [{:4d}/{:4d}] o distortion: {:.3f} o purity: {:.3f}\".format(\n",
    "                cur_iter, self.max_iterations, distortion, purity))\n",
    "\n",
    "            diff = np.mean((new_centroids - self.centroids) ** 2)\n",
    "            self.centroids = new_centroids\n",
    "            cur_iter = cur_iter + 1\n",
    "            if diff < self.threshold:\n",
    "                print(\"Converged at {}-th iteration.\".format(cur_iter))\n",
    "                break       "
   ]
  },
  {
   "cell_type": "markdown",
   "metadata": {
    "id": "8GHny7G3P7nE"
   },
   "source": [
    "We provide additional functions for ease of visualization."
   ]
  },
  {
   "cell_type": "code",
   "execution_count": 62,
   "metadata": {
    "id": "1pC3ZVI9Fl6p"
   },
   "outputs": [],
   "source": [
    "# this helper function plots a row of figures/images.\n",
    "def vector_to_image_plots(input_vec, num_figures=1):\n",
    "    # see the usage below.\n",
    "    # given data with shape [28 * 28]\n",
    "    if isinstance(input_vec, list):\n",
    "        input_vec = np.vstack(input_vec)\n",
    "    num_vec = input_vec.shape[0]\n",
    "    assert num_figures == num_vec\n",
    "    new_shape = (num_figures, 28, 28)\n",
    "    input_vec = input_vec.reshape(new_shape)\n",
    "    input_vec = input_vec.astype(np.uint8)\n",
    "\n",
    "    plt.subplots_adjust(wspace=0.1, hspace=0)\n",
    "    figs, axes = plt.subplots(nrows=1, ncols=num_figures)\n",
    "    # figs.tight_layout()\n",
    "    for n in range(num_figures):\n",
    "            axes[n].set_axis_off()\n",
    "            axes[n].imshow(input_vec[n], cmap='gray')\n",
    "    plt.show()"
   ]
  },
  {
   "cell_type": "markdown",
   "metadata": {
    "id": "pN1B69G6L0LV"
   },
   "source": [
    "If you implement K-means model properly, the following fitting script should work smoothly.\n",
    "\n",
    "**Note**: In general, it is normal if you observe the distortion does not decrease or converges to a very large value; however, the purity (ranging from 0 to 1) should keep increasing and probably converge at around 0.500 ~ 0.700."
   ]
  },
  {
   "cell_type": "code",
   "execution_count": 63,
   "metadata": {
    "id": "I9zYLTF_8Oac"
   },
   "outputs": [
    {
     "name": "stdout",
     "output_type": "stream",
     "text": [
      "Centroids before fitting\n"
     ]
    },
    {
     "data": {
      "text/plain": [
       "<Figure size 432x288 with 0 Axes>"
      ]
     },
     "metadata": {},
     "output_type": "display_data"
    },
    {
     "data": {
      "image/png": "[encoded data removed]",
      "text/plain": [
       "<Figure size 432x288 with 10 Axes>"
      ]
     },
     "metadata": {
      "needs_background": "light"
     },
     "output_type": "display_data"
    },
    {
     "name": "stdout",
     "output_type": "stream",
     "text": [
      "------------------------------------------------------------------------\n",
      "* Iteration : [   0/ 200] o distortion: 5574216.386 o purity: 0.292\n",
      "* Iteration : [   1/ 200] o distortion: 2841270.794 o purity: 0.406\n",
      "* Iteration : [   2/ 200] o distortion: 2725446.062 o purity: 0.436\n",
      "* Iteration : [   3/ 200] o distortion: 2685402.092 o purity: 0.441\n",
      "* Iteration : [   4/ 200] o distortion: 2664422.071 o purity: 0.441\n",
      "* Iteration : [   5/ 200] o distortion: 2643168.912 o purity: 0.445\n",
      "* Iteration : [   6/ 200] o distortion: 2619522.047 o purity: 0.452\n",
      "* Iteration : [   7/ 200] o distortion: 2595187.556 o purity: 0.468\n",
      "* Iteration : [   8/ 200] o distortion: 2578860.388 o purity: 0.488\n",
      "* Iteration : [   9/ 200] o distortion: 2567772.970 o purity: 0.507\n",
      "* Iteration : [  10/ 200] o distortion: 2560151.646 o purity: 0.525\n",
      "* Iteration : [  11/ 200] o distortion: 2554648.859 o purity: 0.541\n",
      "* Iteration : [  12/ 200] o distortion: 2550128.337 o purity: 0.553\n",
      "* Iteration : [  13/ 200] o distortion: 2546734.552 o purity: 0.563\n",
      "* Iteration : [  14/ 200] o distortion: 2544034.420 o purity: 0.572\n",
      "* Iteration : [  15/ 200] o distortion: 2541840.280 o purity: 0.578\n",
      "* Iteration : [  16/ 200] o distortion: 2540126.427 o purity: 0.584\n",
      "* Iteration : [  17/ 200] o distortion: 2538896.540 o purity: 0.587\n",
      "* Iteration : [  18/ 200] o distortion: 2538079.647 o purity: 0.590\n",
      "* Iteration : [  19/ 200] o distortion: 2537648.214 o purity: 0.591\n",
      "* Iteration : [  20/ 200] o distortion: 2537507.457 o purity: 0.592\n",
      "* Iteration : [  21/ 200] o distortion: 2537431.028 o purity: 0.593\n",
      "* Iteration : [  22/ 200] o distortion: 2537361.037 o purity: 0.594\n",
      "* Iteration : [  23/ 200] o distortion: 2537303.053 o purity: 0.594\n",
      "* Iteration : [  24/ 200] o distortion: 2537256.844 o purity: 0.594\n",
      "* Iteration : [  25/ 200] o distortion: 2537225.196 o purity: 0.594\n",
      "* Iteration : [  26/ 200] o distortion: 2537197.973 o purity: 0.594\n",
      "* Iteration : [  27/ 200] o distortion: 2537177.745 o purity: 0.594\n",
      "* Iteration : [  28/ 200] o distortion: 2537156.199 o purity: 0.594\n",
      "* Iteration : [  29/ 200] o distortion: 2537136.756 o purity: 0.594\n",
      "* Iteration : [  30/ 200] o distortion: 2537121.210 o purity: 0.594\n",
      "* Iteration : [  31/ 200] o distortion: 2537103.011 o purity: 0.594\n",
      "* Iteration : [  32/ 200] o distortion: 2537077.903 o purity: 0.594\n",
      "* Iteration : [  33/ 200] o distortion: 2537062.914 o purity: 0.594\n",
      "* Iteration : [  34/ 200] o distortion: 2537047.252 o purity: 0.594\n",
      "* Iteration : [  35/ 200] o distortion: 2537033.461 o purity: 0.595\n",
      "* Iteration : [  36/ 200] o distortion: 2537028.091 o purity: 0.595\n",
      "* Iteration : [  37/ 200] o distortion: 2537024.101 o purity: 0.595\n",
      "* Iteration : [  38/ 200] o distortion: 2537018.251 o purity: 0.595\n",
      "* Iteration : [  39/ 200] o distortion: 2537015.786 o purity: 0.595\n",
      "* Iteration : [  40/ 200] o distortion: 2537013.995 o purity: 0.595\n",
      "Converged at 41-th iteration.\n",
      "------------------------------------------------------------------------\n",
      "Centroids after fitting\n"
     ]
    },
    {
     "data": {
      "text/plain": [
       "<Figure size 432x288 with 0 Axes>"
      ]
     },
     "metadata": {},
     "output_type": "display_data"
    },
    {
     "data": {
      "image/png": "[encoded data removed]",
      "text/plain": [
       "<Figure size 432x288 with 10 Axes>"
      ]
     },
     "metadata": {
      "needs_background": "light"
     },
     "output_type": "display_data"
    }
   ],
   "source": [
    "num_centroids = 10\n",
    "num_classes = 10\n",
    "cluster_dim = 784\n",
    "max_iterations = 200\n",
    "threshold = 1e-5\n",
    "init_method = 'kmeans++'\n",
    "# instantiate the KMeans model.\n",
    "kmeans = Kmeans(num_centroids, cluster_dim, max_iterations, threshold)\n",
    "# initialize the Kmeans centroids\n",
    "kmeans.init_centroids(images, init_method)\n",
    "\n",
    "print(\"Centroids before fitting\")\n",
    "vector_to_image_plots(kmeans.centroids, num_centroids)\n",
    "\n",
    "print(\"------------------------------------------------------------------------\")\n",
    "kmeans.fit(images, labels)\n",
    "print(\"------------------------------------------------------------------------\")\n",
    "\n",
    "print(\"Centroids after fitting\")\n",
    "vector_to_image_plots(kmeans.centroids, num_centroids)"
   ]
  },
  {
   "cell_type": "markdown",
   "metadata": {
    "id": "eZxfh1V02_vH"
   },
   "source": [
    "## Task 3: Evaluation (30 points).\n",
    "In this section, you will evaluate your fitted K-means model at various aspects.\n",
    "\n",
    "**Questions**:\n",
    "1. (10 points) Compare the performance of three different initialization strategies in Task 2.1 and explain your findings.\n",
    "2. (10 points) For `random` initialization strategy, compare the centroid shapes (plotted by `vector_to_image_plots()` function) **before** and **after** fitting. Briefly describe your observations.\n",
    "3. (10 points) We know the actual number of clusters for our case is 10, since the data comes from 10 classes. Nevertheless, as there exist natural similarities between different digits (e.g., `1` and `7`, `8` and `3`, etc.), try to vary the number of clusters between 3, 10, 15, 20, 100, and \n",
    "    1. (5 points) Plot the **distortion** and  **purity** curves versus the number of iterations under different numbers of clusters.\n",
    "    2. (5 points) Normally, you would observe **distortion** and  **purity** just keeps decreasing and increasing respectively as the number of clusters increases, although the `oracle` is to maintain 10 clusters. Explain why this is the case.\n",
    "    \n",
    "    \n",
    "**Hint**: as pointed out in our textbook, we can trivially achieve a purity of 1 by putting each object into its own cluster; hence these two are generally not a perfect metric for evaluating clustering methods.\n"
   ]
  },
  {
   "cell_type": "code",
   "execution_count": 64,
   "metadata": {
    "id": "f64t-iU62_MI"
   },
   "outputs": [
    {
     "data": {
      "text/plain": [
       "Text(0.5, 0, 'cluster')"
      ]
     },
     "execution_count": 64,
     "metadata": {},
     "output_type": "execute_result"
    },
    {
     "data": {
      "image/png": "[encoded data removed]",
      "text/plain": [
       "<Figure size 432x288 with 2 Axes>"
      ]
     },
     "metadata": {
      "needs_background": "light"
     },
     "output_type": "display_data"
    }
   ],
   "source": [
    "#### Your code starts here #####\n",
    "# Q3A.\n",
    "\n",
    "# Recorded purity and distortion\n",
    "\n",
    "result_purity = np.array([0.299,0.601,0.613,0.727,0.859])\n",
    "result_distortion = np.array([3039479.356,2536813.850,2389506.054,2266594.501,1801594.254 ])\n",
    "cluster_size = np.array([3, 10, 15, 20, 100])\n",
    "\n",
    "plt.subplot(3,3,1)\n",
    "plt.plot(cluster_size,result_purity,'r')\n",
    "plt.ylabel(\"purity\")\n",
    "plt.xlabel(\"cluster\")\n",
    "plt.subplot(3,2,2)\n",
    "plt.plot(cluster_size,result_distortion,'b')\n",
    "plt.ylabel(\"distortion\")\n",
    "plt.xlabel(\"cluster\")\n",
    "\n",
    "#### Your code ends here #####"
   ]
  },
  {
   "cell_type": "code",
   "execution_count": 65,
   "metadata": {
    "id": "Ev9NrbAu21sF"
   },
   "outputs": [
    {
     "ename": "SyntaxError",
     "evalue": "invalid syntax (3444719086.py, line 1)",
     "output_type": "error",
     "traceback": [
      "\u001b[1;36m  Input \u001b[1;32mIn [65]\u001b[1;36m\u001b[0m\n\u001b[1;33m    `Your explanation starts here:`\u001b[0m\n\u001b[1;37m    ^\u001b[0m\n\u001b[1;31mSyntaxError\u001b[0m\u001b[1;31m:\u001b[0m invalid syntax\n"
     ]
    }
   ],
   "source": [
    "`Your explanation starts here:`\n",
    "\n",
    "# Q1.\n",
    "\n",
    "# Since kmeans++ picks the new centroid far away from the existing centroids, it usually requires fewer iterations to find the \n",
    "# global optimum compared to random and kmeans\n",
    "\n",
    "# Another finding was that since random initalization does not pick data points as centroids, there is a chance that a \n",
    "# centroid does not get any data points belonging to it. Hence when computing the new centroid in step 3, it returns a \n",
    "# division by zero error since Nk = 0. Thus a small change was needed to solve this. Whereas kmeans and kmeans++ are guaranteed\n",
    "# to have at least one data point (the centroid itself) belonging to it\n",
    "\n",
    "\n",
    "# Q2.\n",
    "# Before fitting, the centroid shapes are just black and white pixels without any meaning. After fitting, the centroid \n",
    "# shapes start to form digits from 0- 9\n",
    "\n",
    "# Q3B.\n",
    "# Distortion decreases and purity increases as number of clusters increase because the chances that each data point have its own\n",
    "# cluster increases \n",
    "\n",
    "---\n",
    "\n"
   ]
  },
  {
   "cell_type": "code",
   "execution_count": null,
   "metadata": {},
   "outputs": [],
   "source": []
  }
 ],
 "metadata": {
  "colab": {
   "collapsed_sections": [],
   "name": "programming_assignment_2.ipynb",
   "provenance": [
    {
     "file_id": "1wmZpmGhTn-bpTZo494SOgh8L6sz35IXp",
     "timestamp": 1649326584861
    },
    {
     "file_id": "16ICWZFmhUvH_lSA-_KVi5LaKi1ZJeIJU",
     "timestamp": 1649123199874
    }
   ]
  },
  "kernelspec": {
   "display_name": "Python 3 (ipykernel)",
   "language": "python",
   "name": "python3"
  },
  "language_info": {
   "codemirror_mode": {
    "name": "ipython",
    "version": 3
   },
   "file_extension": ".py",
   "mimetype": "text/x-python",
   "name": "python",
   "nbconvert_exporter": "python",
   "pygments_lexer": "ipython3",
   "version": "3.10.4"
  }
 },
 "nbformat": 4,
 "nbformat_minor": 1
}
